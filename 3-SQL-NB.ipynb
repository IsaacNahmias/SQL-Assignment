{
 "cells": [
  {
   "cell_type": "markdown",
   "metadata": {},
   "source": [
    "<p style=\"font-family:'Tw Cen MT';font-size:14px\"> P100 - Final Project - Part III</p>\n",
    "\n",
    "# SQL Assignment\n",
    "<p style=\"font-family:'Tw Cen MT';font-size:16px\">by Isaac Nahmias, April 2022</p>\n",
    "\n",
    "***"
   ]
  },
  {
   "cell_type": "markdown",
   "metadata": {
    "toc": true
   },
   "source": [
    "<h1>Table of Contents<span class=\"tocSkip\"></span></h1>\n",
    "<div class=\"toc\"><ul class=\"toc-item\"><li><span><a href=\"#Intoduction\" data-toc-modified-id=\"Intoduction-1\"><span class=\"toc-item-num\">1&nbsp;&nbsp;</span>Intoduction</a></span><ul class=\"toc-item\"><li><span><a href=\"#Abstract\" data-toc-modified-id=\"Abstract-1.1\"><span class=\"toc-item-num\">1.1&nbsp;&nbsp;</span>Abstract</a></span></li><li><span><a href=\"#Analysis-Objective\" data-toc-modified-id=\"Analysis-Objective-1.2\"><span class=\"toc-item-num\">1.2&nbsp;&nbsp;</span>Analysis Objective</a></span></li><li><span><a href=\"#Importing-the-tables-and-relevant-libaries\" data-toc-modified-id=\"Importing-the-tables-and-relevant-libaries-1.3\"><span class=\"toc-item-num\">1.3&nbsp;&nbsp;</span>Importing the tables and relevant libaries</a></span></li><li><span><a href=\"#Data-Description\" data-toc-modified-id=\"Data-Description-1.4\"><span class=\"toc-item-num\">1.4&nbsp;&nbsp;</span>Data Description</a></span><ul class=\"toc-item\"><li><span><a href=\"#Books-Table:\" data-toc-modified-id=\"Books-Table:-1.4.1\"><span class=\"toc-item-num\">1.4.1&nbsp;&nbsp;</span>Books Table:</a></span></li><li><span><a href=\"#Authors-Table\" data-toc-modified-id=\"Authors-Table-1.4.2\"><span class=\"toc-item-num\">1.4.2&nbsp;&nbsp;</span>Authors Table</a></span></li><li><span><a href=\"#Publishers-Table\" data-toc-modified-id=\"Publishers-Table-1.4.3\"><span class=\"toc-item-num\">1.4.3&nbsp;&nbsp;</span>Publishers Table</a></span></li><li><span><a href=\"#Ratings-Table\" data-toc-modified-id=\"Ratings-Table-1.4.4\"><span class=\"toc-item-num\">1.4.4&nbsp;&nbsp;</span>Ratings Table</a></span></li><li><span><a href=\"#Reviews-Table\" data-toc-modified-id=\"Reviews-Table-1.4.5\"><span class=\"toc-item-num\">1.4.5&nbsp;&nbsp;</span>Reviews Table</a></span></li></ul></li></ul></li><li><span><a href=\"#Tasks\" data-toc-modified-id=\"Tasks-2\"><span class=\"toc-item-num\">2&nbsp;&nbsp;</span>Tasks</a></span><ul class=\"toc-item\"><li><span><a href=\"#Find-the-number-of-books-released-after-January-1,-2000:\" data-toc-modified-id=\"Find-the-number-of-books-released-after-January-1,-2000:-2.1\"><span class=\"toc-item-num\">2.1&nbsp;&nbsp;</span>Find the number of books released after January 1, 2000:</a></span></li><li><span><a href=\"#Find-the-number-of-user-reviews-and-the-average-rating-for-each-book:\" data-toc-modified-id=\"Find-the-number-of-user-reviews-and-the-average-rating-for-each-book:-2.2\"><span class=\"toc-item-num\">2.2&nbsp;&nbsp;</span>Find the number of user reviews and the average rating for each book:</a></span></li><li><span><a href=\"#Identify-the-publisher-that-has-released-the-greatest-number-of-books-with-more-than-50-pages:\" data-toc-modified-id=\"Identify-the-publisher-that-has-released-the-greatest-number-of-books-with-more-than-50-pages:-2.3\"><span class=\"toc-item-num\">2.3&nbsp;&nbsp;</span>Identify the publisher that has released the greatest number of books with more than 50 pages:</a></span></li><li><span><a href=\"#Identify-the-author-with-the-highest-average-book-rating:\" data-toc-modified-id=\"Identify-the-author-with-the-highest-average-book-rating:-2.4\"><span class=\"toc-item-num\">2.4&nbsp;&nbsp;</span>Identify the author with the highest average book rating:</a></span></li><li><span><a href=\"#Find-the-average-number-of-text-reviews-among-users-who-rated-more-than-50-books:\" data-toc-modified-id=\"Find-the-average-number-of-text-reviews-among-users-who-rated-more-than-50-books:-2.5\"><span class=\"toc-item-num\">2.5&nbsp;&nbsp;</span>Find the average number of text reviews among users who rated more than 50 books:</a></span></li></ul></li><li><span><a href=\"#Project-Sammary:\" data-toc-modified-id=\"Project-Sammary:-3\"><span class=\"toc-item-num\">3&nbsp;&nbsp;</span>Project Sammary:</a></span></li></ul></div>"
   ]
  },
  {
   "cell_type": "markdown",
   "metadata": {},
   "source": [
    "## Intoduction\n",
    "\n",
    "### Abstract\n",
    "\n",
    "The coronavirus took the entire world by surprise, changing everyone's daily routine. City dwellers no longer spent their free time outside, going to cafes and malls; more people were home, reading books. That attracted the attention of startups that rushed to develop new apps for book lovers.\n",
    "\n",
    "I've been given a database of one of the services competing in this market. It contains data on books, publishers, authors, and customer ratings and reviews of books.\n",
    "\n",
    "### Analysis Objective\n",
    "\n",
    "This information will be used to generate a value proposition for a new product.\n",
    "\n",
    "### Importing the tables and relevant libaries"
   ]
  },
  {
   "cell_type": "code",
   "execution_count": 1,
   "metadata": {},
   "outputs": [],
   "source": [
    "import pandas as pd\n",
    "from sqlalchemy import create_engine"
   ]
  },
  {
   "cell_type": "code",
   "execution_count": 2,
   "metadata": {},
   "outputs": [],
   "source": [
    "db_config = {'user': ***,         \n",
    "             'pwd': ***,             \n",
    "             'host': ***,\n",
    "             'port': ***,                        \n",
    "             'db': ***,}          \n",
    "\n",
    "connection_string = 'postgresql://{}:{}@{}:{}/{}'.format(db_config['user'],\n",
    "                                                         db_config['pwd'],\n",
    "                                                         db_config['host'],\n",
    "                                                         db_config['port'],\n",
    "                                                         db_config['db'])\n",
    "\n",
    "engine = create_engine(connection_string, connect_args={'sslmode':'require'})"
   ]
  },
  {
   "cell_type": "markdown",
   "metadata": {},
   "source": [
    "### Data Description\n",
    "\n",
    "#### Books Table:\n",
    "Contains data on books:\n",
    "* `book_id`\n",
    "* `author_id`\n",
    "* `title`\n",
    "* `num_pages` — number of pages\n",
    "* `publication_date`\n",
    "* `publisher_id`\n"
   ]
  },
  {
   "cell_type": "code",
   "execution_count": 3,
   "metadata": {
    "scrolled": true
   },
   "outputs": [
    {
     "data": {
      "text/html": [
       "<div>\n",
       "<style scoped>\n",
       "    .dataframe tbody tr th:only-of-type {\n",
       "        vertical-align: middle;\n",
       "    }\n",
       "\n",
       "    .dataframe tbody tr th {\n",
       "        vertical-align: top;\n",
       "    }\n",
       "\n",
       "    .dataframe thead th {\n",
       "        text-align: right;\n",
       "    }\n",
       "</style>\n",
       "<table border=\"1\" class=\"dataframe\">\n",
       "  <thead>\n",
       "    <tr style=\"text-align: right;\">\n",
       "      <th></th>\n",
       "      <th>book_id</th>\n",
       "      <th>author_id</th>\n",
       "      <th>title</th>\n",
       "      <th>num_pages</th>\n",
       "      <th>publication_date</th>\n",
       "      <th>publisher_id</th>\n",
       "    </tr>\n",
       "  </thead>\n",
       "  <tbody>\n",
       "    <tr>\n",
       "      <th>0</th>\n",
       "      <td>1</td>\n",
       "      <td>546</td>\n",
       "      <td>'Salem's Lot</td>\n",
       "      <td>594</td>\n",
       "      <td>2005-11-01</td>\n",
       "      <td>93</td>\n",
       "    </tr>\n",
       "    <tr>\n",
       "      <th>1</th>\n",
       "      <td>2</td>\n",
       "      <td>465</td>\n",
       "      <td>1 000 Places to See Before You Die</td>\n",
       "      <td>992</td>\n",
       "      <td>2003-05-22</td>\n",
       "      <td>336</td>\n",
       "    </tr>\n",
       "    <tr>\n",
       "      <th>2</th>\n",
       "      <td>3</td>\n",
       "      <td>407</td>\n",
       "      <td>13 Little Blue Envelopes (Little Blue Envelope...</td>\n",
       "      <td>322</td>\n",
       "      <td>2010-12-21</td>\n",
       "      <td>135</td>\n",
       "    </tr>\n",
       "    <tr>\n",
       "      <th>3</th>\n",
       "      <td>4</td>\n",
       "      <td>82</td>\n",
       "      <td>1491: New Revelations of the Americas Before C...</td>\n",
       "      <td>541</td>\n",
       "      <td>2006-10-10</td>\n",
       "      <td>309</td>\n",
       "    </tr>\n",
       "    <tr>\n",
       "      <th>4</th>\n",
       "      <td>5</td>\n",
       "      <td>125</td>\n",
       "      <td>1776</td>\n",
       "      <td>386</td>\n",
       "      <td>2006-07-04</td>\n",
       "      <td>268</td>\n",
       "    </tr>\n",
       "  </tbody>\n",
       "</table>\n",
       "</div>"
      ],
      "text/plain": [
       "   book_id  author_id                                              title  \\\n",
       "0        1        546                                       'Salem's Lot   \n",
       "1        2        465                 1 000 Places to See Before You Die   \n",
       "2        3        407  13 Little Blue Envelopes (Little Blue Envelope...   \n",
       "3        4         82  1491: New Revelations of the Americas Before C...   \n",
       "4        5        125                                               1776   \n",
       "\n",
       "   num_pages publication_date  publisher_id  \n",
       "0        594       2005-11-01            93  \n",
       "1        992       2003-05-22           336  \n",
       "2        322       2010-12-21           135  \n",
       "3        541       2006-10-10           309  \n",
       "4        386       2006-07-04           268  "
      ]
     },
     "execution_count": 3,
     "metadata": {},
     "output_type": "execute_result"
    }
   ],
   "source": [
    "pd.io.sql.read_sql(\"SELECT * FROM books LIMIT 5\", con = engine)"
   ]
  },
  {
   "cell_type": "markdown",
   "metadata": {},
   "source": [
    "#### Authors Table\n",
    "\n",
    "Contains data on authors:\n",
    "* `author_id`\n",
    "* `author`\n"
   ]
  },
  {
   "cell_type": "code",
   "execution_count": 4,
   "metadata": {},
   "outputs": [
    {
     "data": {
      "text/html": [
       "<div>\n",
       "<style scoped>\n",
       "    .dataframe tbody tr th:only-of-type {\n",
       "        vertical-align: middle;\n",
       "    }\n",
       "\n",
       "    .dataframe tbody tr th {\n",
       "        vertical-align: top;\n",
       "    }\n",
       "\n",
       "    .dataframe thead th {\n",
       "        text-align: right;\n",
       "    }\n",
       "</style>\n",
       "<table border=\"1\" class=\"dataframe\">\n",
       "  <thead>\n",
       "    <tr style=\"text-align: right;\">\n",
       "      <th></th>\n",
       "      <th>author_id</th>\n",
       "      <th>author</th>\n",
       "    </tr>\n",
       "  </thead>\n",
       "  <tbody>\n",
       "    <tr>\n",
       "      <th>0</th>\n",
       "      <td>1</td>\n",
       "      <td>A.S. Byatt</td>\n",
       "    </tr>\n",
       "    <tr>\n",
       "      <th>1</th>\n",
       "      <td>2</td>\n",
       "      <td>Aesop/Laura Harris/Laura Gibbs</td>\n",
       "    </tr>\n",
       "    <tr>\n",
       "      <th>2</th>\n",
       "      <td>3</td>\n",
       "      <td>Agatha Christie</td>\n",
       "    </tr>\n",
       "    <tr>\n",
       "      <th>3</th>\n",
       "      <td>4</td>\n",
       "      <td>Alan Brennert</td>\n",
       "    </tr>\n",
       "    <tr>\n",
       "      <th>4</th>\n",
       "      <td>5</td>\n",
       "      <td>Alan Moore/David   Lloyd</td>\n",
       "    </tr>\n",
       "  </tbody>\n",
       "</table>\n",
       "</div>"
      ],
      "text/plain": [
       "   author_id                          author\n",
       "0          1                      A.S. Byatt\n",
       "1          2  Aesop/Laura Harris/Laura Gibbs\n",
       "2          3                 Agatha Christie\n",
       "3          4                   Alan Brennert\n",
       "4          5        Alan Moore/David   Lloyd"
      ]
     },
     "execution_count": 4,
     "metadata": {},
     "output_type": "execute_result"
    }
   ],
   "source": [
    "pd.io.sql.read_sql(\"SELECT * FROM authors LIMIT 5\", con = engine)"
   ]
  },
  {
   "cell_type": "markdown",
   "metadata": {},
   "source": [
    "#### Publishers Table\n",
    "\n",
    "Contains data on publishers:\n",
    "* `publisher_id`\n",
    "* `publisher`\n"
   ]
  },
  {
   "cell_type": "code",
   "execution_count": 5,
   "metadata": {},
   "outputs": [
    {
     "data": {
      "text/html": [
       "<div>\n",
       "<style scoped>\n",
       "    .dataframe tbody tr th:only-of-type {\n",
       "        vertical-align: middle;\n",
       "    }\n",
       "\n",
       "    .dataframe tbody tr th {\n",
       "        vertical-align: top;\n",
       "    }\n",
       "\n",
       "    .dataframe thead th {\n",
       "        text-align: right;\n",
       "    }\n",
       "</style>\n",
       "<table border=\"1\" class=\"dataframe\">\n",
       "  <thead>\n",
       "    <tr style=\"text-align: right;\">\n",
       "      <th></th>\n",
       "      <th>publisher_id</th>\n",
       "      <th>publisher</th>\n",
       "    </tr>\n",
       "  </thead>\n",
       "  <tbody>\n",
       "    <tr>\n",
       "      <th>0</th>\n",
       "      <td>1</td>\n",
       "      <td>Ace</td>\n",
       "    </tr>\n",
       "    <tr>\n",
       "      <th>1</th>\n",
       "      <td>2</td>\n",
       "      <td>Ace Book</td>\n",
       "    </tr>\n",
       "    <tr>\n",
       "      <th>2</th>\n",
       "      <td>3</td>\n",
       "      <td>Ace Books</td>\n",
       "    </tr>\n",
       "    <tr>\n",
       "      <th>3</th>\n",
       "      <td>4</td>\n",
       "      <td>Ace Hardcover</td>\n",
       "    </tr>\n",
       "    <tr>\n",
       "      <th>4</th>\n",
       "      <td>5</td>\n",
       "      <td>Addison Wesley Publishing Company</td>\n",
       "    </tr>\n",
       "  </tbody>\n",
       "</table>\n",
       "</div>"
      ],
      "text/plain": [
       "   publisher_id                          publisher\n",
       "0             1                                Ace\n",
       "1             2                           Ace Book\n",
       "2             3                          Ace Books\n",
       "3             4                      Ace Hardcover\n",
       "4             5  Addison Wesley Publishing Company"
      ]
     },
     "execution_count": 5,
     "metadata": {},
     "output_type": "execute_result"
    }
   ],
   "source": [
    "pd.io.sql.read_sql(\"SELECT * FROM publishers LIMIT 5\", con = engine)"
   ]
  },
  {
   "cell_type": "markdown",
   "metadata": {},
   "source": [
    "#### Ratings Table\n",
    "\n",
    "Contains data on user ratings:\n",
    "* `rating_id`\n",
    "* `book_id`\n",
    "* `username` — the name of the user who rated the book\n",
    "* `rating`"
   ]
  },
  {
   "cell_type": "code",
   "execution_count": 6,
   "metadata": {},
   "outputs": [
    {
     "data": {
      "text/html": [
       "<div>\n",
       "<style scoped>\n",
       "    .dataframe tbody tr th:only-of-type {\n",
       "        vertical-align: middle;\n",
       "    }\n",
       "\n",
       "    .dataframe tbody tr th {\n",
       "        vertical-align: top;\n",
       "    }\n",
       "\n",
       "    .dataframe thead th {\n",
       "        text-align: right;\n",
       "    }\n",
       "</style>\n",
       "<table border=\"1\" class=\"dataframe\">\n",
       "  <thead>\n",
       "    <tr style=\"text-align: right;\">\n",
       "      <th></th>\n",
       "      <th>rating_id</th>\n",
       "      <th>book_id</th>\n",
       "      <th>username</th>\n",
       "      <th>rating</th>\n",
       "    </tr>\n",
       "  </thead>\n",
       "  <tbody>\n",
       "    <tr>\n",
       "      <th>0</th>\n",
       "      <td>1</td>\n",
       "      <td>1</td>\n",
       "      <td>ryanfranco</td>\n",
       "      <td>4</td>\n",
       "    </tr>\n",
       "    <tr>\n",
       "      <th>1</th>\n",
       "      <td>2</td>\n",
       "      <td>1</td>\n",
       "      <td>grantpatricia</td>\n",
       "      <td>2</td>\n",
       "    </tr>\n",
       "    <tr>\n",
       "      <th>2</th>\n",
       "      <td>3</td>\n",
       "      <td>1</td>\n",
       "      <td>brandtandrea</td>\n",
       "      <td>5</td>\n",
       "    </tr>\n",
       "    <tr>\n",
       "      <th>3</th>\n",
       "      <td>4</td>\n",
       "      <td>2</td>\n",
       "      <td>lorichen</td>\n",
       "      <td>3</td>\n",
       "    </tr>\n",
       "    <tr>\n",
       "      <th>4</th>\n",
       "      <td>5</td>\n",
       "      <td>2</td>\n",
       "      <td>mariokeller</td>\n",
       "      <td>2</td>\n",
       "    </tr>\n",
       "  </tbody>\n",
       "</table>\n",
       "</div>"
      ],
      "text/plain": [
       "   rating_id  book_id       username  rating\n",
       "0          1        1     ryanfranco       4\n",
       "1          2        1  grantpatricia       2\n",
       "2          3        1   brandtandrea       5\n",
       "3          4        2       lorichen       3\n",
       "4          5        2    mariokeller       2"
      ]
     },
     "execution_count": 6,
     "metadata": {},
     "output_type": "execute_result"
    }
   ],
   "source": [
    "pd.io.sql.read_sql(\"SELECT * FROM ratings LIMIT 5\", con = engine)"
   ]
  },
  {
   "cell_type": "markdown",
   "metadata": {},
   "source": [
    "#### Reviews Table\n",
    "\n",
    "Contains data on customer reviews:\n",
    "* `review_id`\n",
    "* `book_id`\n",
    "* `username` — the name of the user who reviewed the book\n",
    "* `text` — the text of the review"
   ]
  },
  {
   "cell_type": "code",
   "execution_count": 7,
   "metadata": {},
   "outputs": [
    {
     "data": {
      "text/html": [
       "<div>\n",
       "<style scoped>\n",
       "    .dataframe tbody tr th:only-of-type {\n",
       "        vertical-align: middle;\n",
       "    }\n",
       "\n",
       "    .dataframe tbody tr th {\n",
       "        vertical-align: top;\n",
       "    }\n",
       "\n",
       "    .dataframe thead th {\n",
       "        text-align: right;\n",
       "    }\n",
       "</style>\n",
       "<table border=\"1\" class=\"dataframe\">\n",
       "  <thead>\n",
       "    <tr style=\"text-align: right;\">\n",
       "      <th></th>\n",
       "      <th>review_id</th>\n",
       "      <th>book_id</th>\n",
       "      <th>username</th>\n",
       "      <th>text</th>\n",
       "    </tr>\n",
       "  </thead>\n",
       "  <tbody>\n",
       "    <tr>\n",
       "      <th>0</th>\n",
       "      <td>1</td>\n",
       "      <td>1</td>\n",
       "      <td>brandtandrea</td>\n",
       "      <td>Mention society tell send professor analysis. ...</td>\n",
       "    </tr>\n",
       "    <tr>\n",
       "      <th>1</th>\n",
       "      <td>2</td>\n",
       "      <td>1</td>\n",
       "      <td>ryanfranco</td>\n",
       "      <td>Foot glass pretty audience hit themselves. Amo...</td>\n",
       "    </tr>\n",
       "    <tr>\n",
       "      <th>2</th>\n",
       "      <td>3</td>\n",
       "      <td>2</td>\n",
       "      <td>lorichen</td>\n",
       "      <td>Listen treat keep worry. Miss husband tax but ...</td>\n",
       "    </tr>\n",
       "    <tr>\n",
       "      <th>3</th>\n",
       "      <td>4</td>\n",
       "      <td>3</td>\n",
       "      <td>johnsonamanda</td>\n",
       "      <td>Finally month interesting blue could nature cu...</td>\n",
       "    </tr>\n",
       "    <tr>\n",
       "      <th>4</th>\n",
       "      <td>5</td>\n",
       "      <td>3</td>\n",
       "      <td>scotttamara</td>\n",
       "      <td>Nation purpose heavy give wait song will. List...</td>\n",
       "    </tr>\n",
       "  </tbody>\n",
       "</table>\n",
       "</div>"
      ],
      "text/plain": [
       "   review_id  book_id       username  \\\n",
       "0          1        1   brandtandrea   \n",
       "1          2        1     ryanfranco   \n",
       "2          3        2       lorichen   \n",
       "3          4        3  johnsonamanda   \n",
       "4          5        3    scotttamara   \n",
       "\n",
       "                                                text  \n",
       "0  Mention society tell send professor analysis. ...  \n",
       "1  Foot glass pretty audience hit themselves. Amo...  \n",
       "2  Listen treat keep worry. Miss husband tax but ...  \n",
       "3  Finally month interesting blue could nature cu...  \n",
       "4  Nation purpose heavy give wait song will. List...  "
      ]
     },
     "execution_count": 7,
     "metadata": {},
     "output_type": "execute_result"
    }
   ],
   "source": [
    "pd.io.sql.read_sql(\"SELECT * FROM reviews LIMIT 5\", con = engine)"
   ]
  },
  {
   "cell_type": "markdown",
   "metadata": {},
   "source": [
    "***\n",
    "## Tasks"
   ]
  },
  {
   "cell_type": "markdown",
   "metadata": {},
   "source": [
    "### Find the number of books released after January 1, 2000:"
   ]
  },
  {
   "cell_type": "code",
   "execution_count": 8,
   "metadata": {},
   "outputs": [
    {
     "data": {
      "text/html": [
       "<div>\n",
       "<style scoped>\n",
       "    .dataframe tbody tr th:only-of-type {\n",
       "        vertical-align: middle;\n",
       "    }\n",
       "\n",
       "    .dataframe tbody tr th {\n",
       "        vertical-align: top;\n",
       "    }\n",
       "\n",
       "    .dataframe thead th {\n",
       "        text-align: right;\n",
       "    }\n",
       "</style>\n",
       "<table border=\"1\" class=\"dataframe\">\n",
       "  <thead>\n",
       "    <tr style=\"text-align: right;\">\n",
       "      <th></th>\n",
       "      <th>books</th>\n",
       "    </tr>\n",
       "  </thead>\n",
       "  <tbody>\n",
       "    <tr>\n",
       "      <th>0</th>\n",
       "      <td>819</td>\n",
       "    </tr>\n",
       "  </tbody>\n",
       "</table>\n",
       "</div>"
      ],
      "text/plain": [
       "   books\n",
       "0    819"
      ]
     },
     "execution_count": 8,
     "metadata": {},
     "output_type": "execute_result"
    }
   ],
   "source": [
    "sql = \"\"\"\n",
    "SELECT\n",
    "    COUNT(book_id) AS books\n",
    "FROM\n",
    "    books\n",
    "WHERE\n",
    "    CAST(publication_date AS date) > '2000-01-01'\n",
    "\"\"\"\n",
    "\n",
    "pd.read_sql_query(sql, engine)"
   ]
  },
  {
   "cell_type": "markdown",
   "metadata": {},
   "source": [
    "> **819** books has been released after Jan 1, 2000."
   ]
  },
  {
   "cell_type": "markdown",
   "metadata": {},
   "source": [
    "### Find the number of user reviews and the average rating for each book:"
   ]
  },
  {
   "cell_type": "code",
   "execution_count": 9,
   "metadata": {},
   "outputs": [
    {
     "data": {
      "text/html": [
       "<div>\n",
       "<style scoped>\n",
       "    .dataframe tbody tr th:only-of-type {\n",
       "        vertical-align: middle;\n",
       "    }\n",
       "\n",
       "    .dataframe tbody tr th {\n",
       "        vertical-align: top;\n",
       "    }\n",
       "\n",
       "    .dataframe thead th {\n",
       "        text-align: right;\n",
       "    }\n",
       "</style>\n",
       "<table border=\"1\" class=\"dataframe\">\n",
       "  <thead>\n",
       "    <tr style=\"text-align: right;\">\n",
       "      <th></th>\n",
       "      <th>title</th>\n",
       "      <th>reviews</th>\n",
       "      <th>avg_rating</th>\n",
       "    </tr>\n",
       "  </thead>\n",
       "  <tbody>\n",
       "    <tr>\n",
       "      <th>0</th>\n",
       "      <td>Twilight (Twilight  #1)</td>\n",
       "      <td>7</td>\n",
       "      <td>3.662500</td>\n",
       "    </tr>\n",
       "    <tr>\n",
       "      <th>1</th>\n",
       "      <td>Water for Elephants</td>\n",
       "      <td>6</td>\n",
       "      <td>3.977273</td>\n",
       "    </tr>\n",
       "    <tr>\n",
       "      <th>2</th>\n",
       "      <td>The Glass Castle</td>\n",
       "      <td>6</td>\n",
       "      <td>4.206897</td>\n",
       "    </tr>\n",
       "    <tr>\n",
       "      <th>3</th>\n",
       "      <td>Harry Potter and the Prisoner of Azkaban (Harr...</td>\n",
       "      <td>6</td>\n",
       "      <td>4.414634</td>\n",
       "    </tr>\n",
       "    <tr>\n",
       "      <th>4</th>\n",
       "      <td>The Curious Incident of the Dog in the Night-Time</td>\n",
       "      <td>6</td>\n",
       "      <td>4.081081</td>\n",
       "    </tr>\n",
       "    <tr>\n",
       "      <th>...</th>\n",
       "      <td>...</td>\n",
       "      <td>...</td>\n",
       "      <td>...</td>\n",
       "    </tr>\n",
       "    <tr>\n",
       "      <th>995</th>\n",
       "      <td>Anne Rice's The Vampire Lestat: A Graphic Novel</td>\n",
       "      <td>0</td>\n",
       "      <td>3.666667</td>\n",
       "    </tr>\n",
       "    <tr>\n",
       "      <th>996</th>\n",
       "      <td>The Natural Way to Draw</td>\n",
       "      <td>0</td>\n",
       "      <td>3.000000</td>\n",
       "    </tr>\n",
       "    <tr>\n",
       "      <th>997</th>\n",
       "      <td>The Cat in the Hat and Other Dr. Seuss Favorites</td>\n",
       "      <td>0</td>\n",
       "      <td>5.000000</td>\n",
       "    </tr>\n",
       "    <tr>\n",
       "      <th>998</th>\n",
       "      <td>Essential Tales and Poems</td>\n",
       "      <td>0</td>\n",
       "      <td>4.000000</td>\n",
       "    </tr>\n",
       "    <tr>\n",
       "      <th>999</th>\n",
       "      <td>Disney's Beauty and the Beast (A Little Golden...</td>\n",
       "      <td>0</td>\n",
       "      <td>4.000000</td>\n",
       "    </tr>\n",
       "  </tbody>\n",
       "</table>\n",
       "<p>1000 rows × 3 columns</p>\n",
       "</div>"
      ],
      "text/plain": [
       "                                                 title  reviews  avg_rating\n",
       "0                              Twilight (Twilight  #1)        7    3.662500\n",
       "1                                  Water for Elephants        6    3.977273\n",
       "2                                     The Glass Castle        6    4.206897\n",
       "3    Harry Potter and the Prisoner of Azkaban (Harr...        6    4.414634\n",
       "4    The Curious Incident of the Dog in the Night-Time        6    4.081081\n",
       "..                                                 ...      ...         ...\n",
       "995    Anne Rice's The Vampire Lestat: A Graphic Novel        0    3.666667\n",
       "996                            The Natural Way to Draw        0    3.000000\n",
       "997   The Cat in the Hat and Other Dr. Seuss Favorites        0    5.000000\n",
       "998                          Essential Tales and Poems        0    4.000000\n",
       "999  Disney's Beauty and the Beast (A Little Golden...        0    4.000000\n",
       "\n",
       "[1000 rows x 3 columns]"
      ]
     },
     "execution_count": 9,
     "metadata": {},
     "output_type": "execute_result"
    }
   ],
   "source": [
    "sql = \"\"\"\n",
    "SELECT \n",
    "    b.title,\n",
    "    COUNT(DISTINCT re.review_id) AS reviews,\n",
    "    AVG(ra.rating) AS avg_rating\n",
    "FROM\n",
    "    books AS b\n",
    "LEFT OUTER JOIN ratings AS ra\n",
    "    ON b.book_id = ra.book_id\n",
    "LEFT OUTER JOIN reviews AS re\n",
    "    ON b.book_id = re.book_id\n",
    "GROUP BY b.book_id\n",
    "ORDER BY COUNT(DISTINCT re.review_id) DESC\n",
    "\"\"\"\n",
    "\n",
    "pd.read_sql_query(sql, engine)"
   ]
  },
  {
   "cell_type": "markdown",
   "metadata": {},
   "source": [
    "### Identify the publisher that has released the greatest number of books with more than 50 pages:"
   ]
  },
  {
   "cell_type": "code",
   "execution_count": 11,
   "metadata": {},
   "outputs": [
    {
     "data": {
      "text/html": [
       "<div>\n",
       "<style scoped>\n",
       "    .dataframe tbody tr th:only-of-type {\n",
       "        vertical-align: middle;\n",
       "    }\n",
       "\n",
       "    .dataframe tbody tr th {\n",
       "        vertical-align: top;\n",
       "    }\n",
       "\n",
       "    .dataframe thead th {\n",
       "        text-align: right;\n",
       "    }\n",
       "</style>\n",
       "<table border=\"1\" class=\"dataframe\">\n",
       "  <thead>\n",
       "    <tr style=\"text-align: right;\">\n",
       "      <th></th>\n",
       "      <th>publisher_id</th>\n",
       "      <th>publisher</th>\n",
       "      <th>books</th>\n",
       "    </tr>\n",
       "  </thead>\n",
       "  <tbody>\n",
       "    <tr>\n",
       "      <th>0</th>\n",
       "      <td>212</td>\n",
       "      <td>Penguin Books</td>\n",
       "      <td>42</td>\n",
       "    </tr>\n",
       "  </tbody>\n",
       "</table>\n",
       "</div>"
      ],
      "text/plain": [
       "   publisher_id      publisher  books\n",
       "0           212  Penguin Books     42"
      ]
     },
     "execution_count": 11,
     "metadata": {},
     "output_type": "execute_result"
    }
   ],
   "source": [
    "sql = \"\"\"\n",
    "SELECT \n",
    "    b.publisher_id,\n",
    "    p.publisher,\n",
    "    COUNT(DISTINCT b.book_id) AS books\n",
    "FROM books AS b\n",
    "INNER JOIN publishers AS p\n",
    "    ON b.publisher_id = p.publisher_id\n",
    "WHERE b.num_pages > 50\n",
    "GROUP BY b.publisher_id, p.publisher\n",
    "ORDER BY COUNT(DISTINCT b.book_id) DESC\n",
    "LIMIT 1\n",
    "\"\"\"\n",
    "\n",
    "pd.read_sql_query(sql, engine)"
   ]
  },
  {
   "cell_type": "markdown",
   "metadata": {},
   "source": [
    "> ***Penguin Books*** is the publisher that has released the greatest number of books with more than 50 pages."
   ]
  },
  {
   "cell_type": "markdown",
   "metadata": {},
   "source": [
    "### Identify the author with the highest average book rating:\n",
    "\n",
    "look only at books with at least 50 ratings"
   ]
  },
  {
   "cell_type": "code",
   "execution_count": 14,
   "metadata": {},
   "outputs": [
    {
     "data": {
      "text/html": [
       "<div>\n",
       "<style scoped>\n",
       "    .dataframe tbody tr th:only-of-type {\n",
       "        vertical-align: middle;\n",
       "    }\n",
       "\n",
       "    .dataframe tbody tr th {\n",
       "        vertical-align: top;\n",
       "    }\n",
       "\n",
       "    .dataframe thead th {\n",
       "        text-align: right;\n",
       "    }\n",
       "</style>\n",
       "<table border=\"1\" class=\"dataframe\">\n",
       "  <thead>\n",
       "    <tr style=\"text-align: right;\">\n",
       "      <th></th>\n",
       "      <th>author_id</th>\n",
       "      <th>author</th>\n",
       "      <th>avg_rating</th>\n",
       "    </tr>\n",
       "  </thead>\n",
       "  <tbody>\n",
       "    <tr>\n",
       "      <th>0</th>\n",
       "      <td>236</td>\n",
       "      <td>J.K. Rowling/Mary GrandPré</td>\n",
       "      <td>4.283844</td>\n",
       "    </tr>\n",
       "  </tbody>\n",
       "</table>\n",
       "</div>"
      ],
      "text/plain": [
       "   author_id                      author  avg_rating\n",
       "0        236  J.K. Rowling/Mary GrandPré    4.283844"
      ]
     },
     "execution_count": 14,
     "metadata": {},
     "output_type": "execute_result"
    }
   ],
   "source": [
    "sql = \"\"\"\n",
    "SELECT\n",
    "    book_ratings.author_id, a.author, AVG(book_ratings.avg_rating) AS avg_rating\n",
    "FROM (\n",
    "    SELECT\n",
    "        b.book_id,\n",
    "        b.author_id,\n",
    "        COUNT(ra.rating_id) AS ratings,\n",
    "        AVG(ra.rating) AS avg_rating\n",
    "    FROM\n",
    "        books AS b\n",
    "    INNER JOIN ratings AS ra\n",
    "        ON b.book_id = ra.book_id\n",
    "    GROUP BY b.book_id\n",
    "    HAVING\n",
    "        COUNT(ra.rating_id) >= 50\n",
    "    ) AS book_ratings\n",
    "INNER JOIN authors AS a\n",
    "    ON book_ratings.author_id = a.author_id\n",
    "GROUP BY book_ratings.author_id, a.author\n",
    "ORDER BY AVG(book_ratings.avg_rating) DESC\n",
    "LIMIT 1\n",
    "\"\"\"\n",
    "\n",
    "pd.read_sql_query(sql, engine)"
   ]
  },
  {
   "cell_type": "markdown",
   "metadata": {},
   "source": [
    "> The author with the highest average book rating is **J.K. Rowling** (a.k.a. Mary GrandPré)."
   ]
  },
  {
   "cell_type": "markdown",
   "metadata": {},
   "source": [
    "### Find the average number of text reviews among users who rated more than 50 books:"
   ]
  },
  {
   "cell_type": "code",
   "execution_count": 13,
   "metadata": {},
   "outputs": [
    {
     "data": {
      "text/html": [
       "<div>\n",
       "<style scoped>\n",
       "    .dataframe tbody tr th:only-of-type {\n",
       "        vertical-align: middle;\n",
       "    }\n",
       "\n",
       "    .dataframe tbody tr th {\n",
       "        vertical-align: top;\n",
       "    }\n",
       "\n",
       "    .dataframe thead th {\n",
       "        text-align: right;\n",
       "    }\n",
       "</style>\n",
       "<table border=\"1\" class=\"dataframe\">\n",
       "  <thead>\n",
       "    <tr style=\"text-align: right;\">\n",
       "      <th></th>\n",
       "      <th>avg</th>\n",
       "    </tr>\n",
       "  </thead>\n",
       "  <tbody>\n",
       "    <tr>\n",
       "      <th>0</th>\n",
       "      <td>24.333333</td>\n",
       "    </tr>\n",
       "  </tbody>\n",
       "</table>\n",
       "</div>"
      ],
      "text/plain": [
       "         avg\n",
       "0  24.333333"
      ]
     },
     "execution_count": 13,
     "metadata": {},
     "output_type": "execute_result"
    }
   ],
   "source": [
    "sql = \"\"\"\n",
    "SELECT AVG(t.reviews)\n",
    "FROM (\n",
    "    SELECT\n",
    "        ra.username,\n",
    "        COUNT(DISTINCT ra.book_id) AS ratings,\n",
    "        COUNT(DISTINCT re.review_id) AS reviews\n",
    "    FROM\n",
    "        ratings AS ra\n",
    "    INNER JOIN reviews AS re\n",
    "        ON ra.username = re.username\n",
    "    GROUP BY ra.username\n",
    "    HAVING\n",
    "        COUNT(DISTINCT ra.book_id) > 50\n",
    "    ) AS t\n",
    "\"\"\"\n",
    "\n",
    "pd.read_sql_query(sql, engine)"
   ]
  },
  {
   "cell_type": "markdown",
   "metadata": {},
   "source": [
    " > The average number of text reviews among users who rated more than 50 books is about **24**."
   ]
  },
  {
   "cell_type": "markdown",
   "metadata": {},
   "source": [
    "***\n",
    "## Project Sammary:\n",
    "\n",
    "- Find the number of books released after January 1, 2000:\n",
    "> 819 books has been released after Jan 1, 2000.\n",
    "- Find the number of user reviews and the average rating for each book:\n",
    "> *Twilight* is the book with the highest number of reviews - 7, and an average rating of 3.7.\n",
    "- Identify the publisher that has released the greatest number of books with more than 50 pages:\n",
    "> Penguin Books is the publisher that has released the greatest number of books (42 books) with more than 50 pages.\n",
    "- Identify the author with the highest average book rating (look only at books with at least 50 ratings):\n",
    "> The author with the highest average book rating is J.K. Rowling (a.k.a. Mary GrandPré), with an average books rating of 4.28.\n",
    "- Find the average number of text reviews among users who rated more than 50 books:\n",
    "> The average number of text reviews among users who rated more than 50 books is about 24."
   ]
  }
 ],
 "metadata": {
  "ExecuteTimeLog": [
   {
    "duration": 45,
    "start_time": "2022-04-11T17:07:21.114Z"
   },
   {
    "duration": 485,
    "start_time": "2022-04-11T17:07:26.856Z"
   },
   {
    "duration": 8751,
    "start_time": "2022-04-11T17:07:27.343Z"
   },
   {
    "duration": 295,
    "start_time": "2022-04-11T17:07:36.096Z"
   },
   {
    "duration": 77,
    "start_time": "2022-04-11T17:07:36.393Z"
   },
   {
    "duration": 75,
    "start_time": "2022-04-11T17:07:36.472Z"
   },
   {
    "duration": 113,
    "start_time": "2022-04-11T17:07:36.549Z"
   },
   {
    "duration": 94,
    "start_time": "2022-04-11T17:07:36.664Z"
   },
   {
    "duration": 38,
    "start_time": "2022-04-11T17:07:36.760Z"
   },
   {
    "duration": 65,
    "start_time": "2022-04-11T17:07:36.800Z"
   },
   {
    "duration": 49,
    "start_time": "2022-04-11T17:07:36.868Z"
   },
   {
    "duration": 254,
    "start_time": "2022-04-11T17:07:36.918Z"
   },
   {
    "duration": 0,
    "start_time": "2022-04-11T17:07:37.174Z"
   },
   {
    "duration": 0,
    "start_time": "2022-04-11T17:07:37.175Z"
   },
   {
    "duration": 41,
    "start_time": "2022-04-11T17:08:28.356Z"
   },
   {
    "duration": 43,
    "start_time": "2022-04-11T17:09:11.815Z"
   },
   {
    "duration": 42,
    "start_time": "2022-04-11T17:09:17.836Z"
   },
   {
    "duration": 44,
    "start_time": "2022-04-11T17:09:36.776Z"
   },
   {
    "duration": 192,
    "start_time": "2022-04-11T17:10:19.066Z"
   },
   {
    "duration": 73,
    "start_time": "2022-04-11T17:10:25.475Z"
   },
   {
    "duration": 79,
    "start_time": "2022-04-11T17:10:49.186Z"
   },
   {
    "duration": 38,
    "start_time": "2022-04-11T17:11:12.886Z"
   },
   {
    "duration": 42,
    "start_time": "2022-04-11T17:15:39.643Z"
   },
   {
    "duration": 299,
    "start_time": "2022-04-11T17:16:49.576Z"
   },
   {
    "duration": 50,
    "start_time": "2022-04-11T17:17:20.497Z"
   },
   {
    "duration": 227,
    "start_time": "2022-04-11T17:17:24.965Z"
   },
   {
    "duration": 46,
    "start_time": "2022-04-11T17:18:07.975Z"
   },
   {
    "duration": 64,
    "start_time": "2022-04-11T17:19:49.426Z"
   },
   {
    "duration": 38,
    "start_time": "2022-04-11T17:28:03.366Z"
   },
   {
    "duration": 121,
    "start_time": "2022-04-11T17:29:07.227Z"
   },
   {
    "duration": 73,
    "start_time": "2022-04-11T17:29:13.876Z"
   },
   {
    "duration": 77,
    "start_time": "2022-04-11T17:29:42.407Z"
   },
   {
    "duration": 73,
    "start_time": "2022-04-11T17:29:47.076Z"
   },
   {
    "duration": 74,
    "start_time": "2022-04-11T17:29:52.124Z"
   },
   {
    "duration": 76,
    "start_time": "2022-04-11T17:29:58.977Z"
   },
   {
    "duration": 494,
    "start_time": "2022-04-12T04:28:53.082Z"
   },
   {
    "duration": 5715,
    "start_time": "2022-04-12T04:28:53.578Z"
   },
   {
    "duration": 256,
    "start_time": "2022-04-12T04:28:59.295Z"
   },
   {
    "duration": 75,
    "start_time": "2022-04-12T04:28:59.553Z"
   },
   {
    "duration": 75,
    "start_time": "2022-04-12T04:28:59.630Z"
   },
   {
    "duration": 77,
    "start_time": "2022-04-12T04:28:59.706Z"
   },
   {
    "duration": 76,
    "start_time": "2022-04-12T04:28:59.784Z"
   },
   {
    "duration": 41,
    "start_time": "2022-04-12T04:28:59.862Z"
   },
   {
    "duration": 91,
    "start_time": "2022-04-12T04:28:59.904Z"
   },
   {
    "duration": 46,
    "start_time": "2022-04-12T04:28:59.997Z"
   },
   {
    "duration": 47,
    "start_time": "2022-04-12T04:29:00.045Z"
   },
   {
    "duration": 64,
    "start_time": "2022-04-12T04:29:00.094Z"
   },
   {
    "duration": 155,
    "start_time": "2022-04-12T04:42:22.285Z"
   },
   {
    "duration": 47,
    "start_time": "2022-04-12T04:44:55.935Z"
   },
   {
    "duration": 81,
    "start_time": "2022-04-12T07:20:45.454Z"
   },
   {
    "duration": 708,
    "start_time": "2022-04-12T07:21:01.038Z"
   },
   {
    "duration": 6459,
    "start_time": "2022-04-12T07:21:01.749Z"
   },
   {
    "duration": 225,
    "start_time": "2022-04-12T07:21:08.210Z"
   },
   {
    "duration": 77,
    "start_time": "2022-04-12T07:21:08.438Z"
   },
   {
    "duration": 77,
    "start_time": "2022-04-12T07:21:08.520Z"
   },
   {
    "duration": 72,
    "start_time": "2022-04-12T07:21:08.600Z"
   },
   {
    "duration": 78,
    "start_time": "2022-04-12T07:21:08.674Z"
   },
   {
    "duration": 53,
    "start_time": "2022-04-12T07:21:08.755Z"
   },
   {
    "duration": 85,
    "start_time": "2022-04-12T07:21:08.810Z"
   },
   {
    "duration": 146,
    "start_time": "2022-04-12T07:21:08.898Z"
   },
   {
    "duration": 54,
    "start_time": "2022-04-12T07:21:09.046Z"
   },
   {
    "duration": 45,
    "start_time": "2022-04-12T07:21:09.102Z"
   },
   {
    "duration": 61,
    "start_time": "2022-04-12T07:21:09.150Z"
   },
   {
    "duration": 41,
    "start_time": "2022-04-12T07:23:37.138Z"
   },
   {
    "duration": 260,
    "start_time": "2022-04-12T07:24:39.708Z"
   },
   {
    "duration": 168,
    "start_time": "2022-04-12T07:24:47.868Z"
   },
   {
    "duration": 80,
    "start_time": "2022-04-12T07:24:57.598Z"
   },
   {
    "duration": 153,
    "start_time": "2022-04-12T07:26:45.477Z"
   },
   {
    "duration": 151,
    "start_time": "2022-04-12T07:28:46.917Z"
   },
   {
    "duration": 71,
    "start_time": "2022-04-12T07:28:57.448Z"
   },
   {
    "duration": 184,
    "start_time": "2022-04-12T07:31:25.035Z"
   },
   {
    "duration": 136,
    "start_time": "2022-04-12T07:31:51.748Z"
   },
   {
    "duration": 135,
    "start_time": "2022-04-12T07:32:11.358Z"
   },
   {
    "duration": 72,
    "start_time": "2022-04-12T07:33:45.428Z"
   },
   {
    "duration": 136,
    "start_time": "2022-04-12T07:33:57.398Z"
   },
   {
    "duration": 134,
    "start_time": "2022-04-12T07:34:19.278Z"
   },
   {
    "duration": 183,
    "start_time": "2022-04-12T07:34:33.798Z"
   },
   {
    "duration": 71,
    "start_time": "2022-04-12T07:34:37.437Z"
   },
   {
    "duration": 71,
    "start_time": "2022-04-12T07:34:53.448Z"
   },
   {
    "duration": 70,
    "start_time": "2022-04-12T07:35:40.718Z"
   },
   {
    "duration": 134,
    "start_time": "2022-04-12T07:36:38.586Z"
   },
   {
    "duration": 72,
    "start_time": "2022-04-12T07:36:59.047Z"
   },
   {
    "duration": 71,
    "start_time": "2022-04-12T07:37:25.627Z"
   },
   {
    "duration": 72,
    "start_time": "2022-04-12T07:38:12.377Z"
   },
   {
    "duration": 139,
    "start_time": "2022-04-12T07:38:30.378Z"
   },
   {
    "duration": 149,
    "start_time": "2022-04-12T07:39:50.037Z"
   },
   {
    "duration": 152,
    "start_time": "2022-04-12T07:39:56.897Z"
   },
   {
    "duration": 163,
    "start_time": "2022-04-12T07:40:00.997Z"
   },
   {
    "duration": 64,
    "start_time": "2022-04-12T07:40:39.528Z"
   },
   {
    "duration": 175,
    "start_time": "2022-04-12T07:41:51.108Z"
   },
   {
    "duration": 165,
    "start_time": "2022-04-12T07:41:59.317Z"
   },
   {
    "duration": 171,
    "start_time": "2022-04-12T07:42:10.898Z"
   },
   {
    "duration": 64,
    "start_time": "2022-04-12T07:43:12.418Z"
   },
   {
    "duration": 157,
    "start_time": "2022-04-12T07:43:31.258Z"
   },
   {
    "duration": 225,
    "start_time": "2022-04-12T07:44:37.869Z"
   },
   {
    "duration": 80,
    "start_time": "2022-04-12T07:45:00.928Z"
   },
   {
    "duration": 84,
    "start_time": "2022-04-12T07:45:19.458Z"
   },
   {
    "duration": 74,
    "start_time": "2022-04-12T07:47:01.129Z"
   },
   {
    "duration": 74,
    "start_time": "2022-04-12T07:47:34.050Z"
   },
   {
    "duration": 1899,
    "start_time": "2022-04-12T08:04:26.968Z"
   },
   {
    "duration": 151,
    "start_time": "2022-04-12T08:04:42.606Z"
   },
   {
    "duration": 42,
    "start_time": "2022-04-12T08:04:47.668Z"
   },
   {
    "duration": 43,
    "start_time": "2022-04-12T08:06:17.069Z"
   },
   {
    "duration": 42,
    "start_time": "2022-04-12T08:06:57.529Z"
   },
   {
    "duration": 149,
    "start_time": "2022-04-12T08:07:47.488Z"
   },
   {
    "duration": 44,
    "start_time": "2022-04-12T08:08:03.107Z"
   },
   {
    "duration": 206,
    "start_time": "2022-04-12T08:08:31.448Z"
   },
   {
    "duration": 154,
    "start_time": "2022-04-12T08:09:09.108Z"
   },
   {
    "duration": 146,
    "start_time": "2022-04-12T08:10:13.108Z"
   },
   {
    "duration": 147,
    "start_time": "2022-04-12T08:10:18.318Z"
   },
   {
    "duration": 165,
    "start_time": "2022-04-12T08:10:37.658Z"
   },
   {
    "duration": 45,
    "start_time": "2022-04-12T08:10:42.418Z"
   },
   {
    "duration": 3618,
    "start_time": "2022-04-12T08:11:33.476Z"
   },
   {
    "duration": 47,
    "start_time": "2022-04-12T08:11:54.898Z"
   },
   {
    "duration": 203,
    "start_time": "2022-04-12T08:12:21.398Z"
   },
   {
    "duration": 47,
    "start_time": "2022-04-12T08:12:33.688Z"
   },
   {
    "duration": 167,
    "start_time": "2022-04-12T08:14:16.568Z"
   },
   {
    "duration": 41,
    "start_time": "2022-04-12T08:14:20.788Z"
   },
   {
    "duration": 44,
    "start_time": "2022-04-12T08:15:03.919Z"
   },
   {
    "duration": 159,
    "start_time": "2022-04-12T08:17:03.297Z"
   },
   {
    "duration": 152,
    "start_time": "2022-04-12T08:17:43.296Z"
   },
   {
    "duration": 214,
    "start_time": "2022-04-12T08:18:19.170Z"
   },
   {
    "duration": 43,
    "start_time": "2022-04-12T08:19:10.598Z"
   },
   {
    "duration": 43,
    "start_time": "2022-04-12T08:19:43.697Z"
   },
   {
    "duration": 44,
    "start_time": "2022-04-12T08:19:49.849Z"
   },
   {
    "duration": 42,
    "start_time": "2022-04-12T08:19:55.213Z"
   },
   {
    "duration": 40,
    "start_time": "2022-04-12T08:24:37.930Z"
   },
   {
    "duration": 81,
    "start_time": "2022-04-12T09:12:17.470Z"
   },
   {
    "duration": 715,
    "start_time": "2022-04-12T09:12:24.719Z"
   },
   {
    "duration": 23055,
    "start_time": "2022-04-12T09:12:25.437Z"
   },
   {
    "duration": 44,
    "start_time": "2022-04-12T09:12:48.494Z"
   },
   {
    "duration": 12,
    "start_time": "2022-04-12T09:12:48.541Z"
   },
   {
    "duration": 12,
    "start_time": "2022-04-12T09:12:48.554Z"
   },
   {
    "duration": 15,
    "start_time": "2022-04-12T09:12:48.568Z"
   },
   {
    "duration": 16,
    "start_time": "2022-04-12T09:12:48.585Z"
   },
   {
    "duration": 35,
    "start_time": "2022-04-12T09:12:48.603Z"
   },
   {
    "duration": 36,
    "start_time": "2022-04-12T09:12:48.640Z"
   },
   {
    "duration": 32,
    "start_time": "2022-04-12T09:12:48.679Z"
   },
   {
    "duration": 23,
    "start_time": "2022-04-12T09:12:48.713Z"
   },
   {
    "duration": 21,
    "start_time": "2022-04-12T09:12:48.738Z"
   },
   {
    "duration": 45,
    "start_time": "2022-04-12T09:12:48.761Z"
   },
   {
    "duration": 16,
    "start_time": "2022-04-12T09:13:27.601Z"
   }
  ],
  "kernelspec": {
   "display_name": "Python 3 (ipykernel)",
   "language": "python",
   "name": "python3"
  },
  "language_info": {
   "codemirror_mode": {
    "name": "ipython",
    "version": 3
   },
   "file_extension": ".py",
   "mimetype": "text/x-python",
   "name": "python",
   "nbconvert_exporter": "python",
   "pygments_lexer": "ipython3",
   "version": "3.9.7"
  },
  "toc": {
   "base_numbering": 1,
   "nav_menu": {},
   "number_sections": true,
   "sideBar": true,
   "skip_h1_title": true,
   "title_cell": "Table of Contents",
   "title_sidebar": "Contents",
   "toc_cell": true,
   "toc_position": {
    "height": "calc(100% - 180px)",
    "left": "10px",
    "top": "150px",
    "width": "255.594px"
   },
   "toc_section_display": true,
   "toc_window_display": false
  }
 },
 "nbformat": 4,
 "nbformat_minor": 2
}
